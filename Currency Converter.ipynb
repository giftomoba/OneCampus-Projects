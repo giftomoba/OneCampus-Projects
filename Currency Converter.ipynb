{
 "cells": [
  {
   "cell_type": "markdown",
   "id": "54f8f222",
   "metadata": {},
   "source": [
    "## Currency converter for Specific Currencies:"
   ]
  },
  {
   "cell_type": "code",
   "execution_count": 1,
   "id": "5914f365",
   "metadata": {},
   "outputs": [],
   "source": [
    "currDict = {'USD': 1, 'DUTCHMARK': 1.8664, 'POUNDS': 0.83, 'PESO': 55.11, 'RAND': 16.43, 'NAIRA': 415.27, 'KWACHA': 16.67, 'CEDIS': 8.07}\n",
    "valCurrency = ''\n",
    "firstCurr = ''\n",
    "secondCurr= ''\n",
    "def curConverter(firstCurr, secondCurr, valCurrency):\n",
    "    currlist = list(currDict.keys())\n",
    "    firstCurr = input('Currency converting from: ')\n",
    "    secondCurr = input('Currency converting to: ')\n",
    "    valCurrency = input(f'Value to convert in {firstCurr}: ')\n",
    "    if firstCurr in currlist and secondCurr in currlist:\n",
    "        dollarEquiv = float(valCurrency)/currDict[firstCurr]\n",
    "        targetCurr = dollarEquiv * currDict[secondCurr]\n",
    "        print(f'Value of', valCurrency, firstCurr, 'in', secondCurr, 'is: ', targetCurr)\n",
    "    else:\n",
    "        print('Selected currency not defined in dictionary')\n",
    "    return\n",
    "        \n"
   ]
  },
  {
   "cell_type": "code",
   "execution_count": 3,
   "id": "34c1de47",
   "metadata": {},
   "outputs": [
    {
     "name": "stdout",
     "output_type": "stream",
     "text": [
      "Currency converting from: CEDIS\n",
      "Currency converting to: NAIRA\n",
      "Value to convert in CEDIS: 1\n",
      "Value of 1 CEDIS in NAIRA is:  51.45848822800495\n"
     ]
    }
   ],
   "source": [
    "curConverter(firstCurr, secondCurr, valCurrency)"
   ]
  },
  {
   "cell_type": "code",
   "execution_count": 23,
   "id": "cecb55a9",
   "metadata": {},
   "outputs": [
    {
     "name": "stdout",
     "output_type": "stream",
     "text": [
      "Currency converting from: RAND\n",
      "Currency converting to: NAIRA\n",
      "Value to convert in RAND: 1\n",
      "Value of 1 RAND in NAIRA is:  25.275106512477173\n"
     ]
    }
   ],
   "source": [
    "curConverter(firstCurr, secondCurr, valCurrency)"
   ]
  },
  {
   "cell_type": "code",
   "execution_count": 24,
   "id": "758e9dcd",
   "metadata": {},
   "outputs": [
    {
     "name": "stdout",
     "output_type": "stream",
     "text": [
      "Currency converting from: FRANC\n",
      "Currency converting to: NAIRA\n",
      "Value to convert in FRANC: 30\n",
      "Selected currency not defined in dictionary\n"
     ]
    }
   ],
   "source": [
    "curConverter(firstCurr, secondCurr, valCurrency)"
   ]
  },
  {
   "cell_type": "code",
   "execution_count": null,
   "id": "39939bd9",
   "metadata": {},
   "outputs": [],
   "source": [
    "        "
   ]
  },
  {
   "cell_type": "code",
   "execution_count": null,
   "id": "50c9f37b",
   "metadata": {},
   "outputs": [],
   "source": []
  },
  {
   "cell_type": "code",
   "execution_count": null,
   "id": "0006de23",
   "metadata": {},
   "outputs": [],
   "source": []
  },
  {
   "cell_type": "code",
   "execution_count": null,
   "id": "771880c2",
   "metadata": {},
   "outputs": [],
   "source": []
  }
 ],
 "metadata": {
  "kernelspec": {
   "display_name": "Python 3 (ipykernel)",
   "language": "python",
   "name": "python3"
  },
  "language_info": {
   "codemirror_mode": {
    "name": "ipython",
    "version": 3
   },
   "file_extension": ".py",
   "mimetype": "text/x-python",
   "name": "python",
   "nbconvert_exporter": "python",
   "pygments_lexer": "ipython3",
   "version": "3.9.7"
  }
 },
 "nbformat": 4,
 "nbformat_minor": 5
}
