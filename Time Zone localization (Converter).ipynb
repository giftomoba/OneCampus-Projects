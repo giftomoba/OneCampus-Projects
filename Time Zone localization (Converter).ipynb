{
 "cells": [
  {
   "cell_type": "markdown",
   "id": "f4ea22fb",
   "metadata": {},
   "source": [
    "# Bootcamp Schedule Timezone Converter "
   ]
  },
  {
   "cell_type": "markdown",
   "id": "0b2d7a91",
   "metadata": {},
   "source": [
    "### Building Containers for holding Data:"
   ]
  },
  {
   "cell_type": "code",
   "execution_count": 56,
   "id": "cdcfb572",
   "metadata": {},
   "outputs": [],
   "source": [
    "import datetime\n",
    "#Creating containers for Schedules\n",
    "dASchdlDict = {'2022-7-22 08:52am':'Cohort 14', '2022-7-8 10:00pm':'Cohort 15', '2022-7-21 6:00am':'Cohort 14', \n",
    "            '2022-7-22 10:00pm':'Cohort 15', '2022-8-4 6:00am':'Cohort 14', '2022-8-5 10:00pm':'Cohort 15',\n",
    "            '2022-8-18 6:00am':'Cohort 14', '2022-8-19 10:00pm':'Cohort 15', '2022-9-1 6:00am':'Cohort 14',\n",
    "            '2022-9-2 10:00pm':'Cohort 15', '2022-9-15 6:00am':'Cohort 14', '2022-9-16 10:00pm':'Cohort 15',\n",
    "            '2022-9-29 6:00am':'Cohort 14', '2022-9-30 10:00pm':'Cohort 15'}\n",
    "\n",
    "dsmlSchdlDict = {'2022-7-8 10:00am':'Cohort 15','2022-7-7 6:00am':'Cohort 14','2022-7-21 10:00am':'Cohort 15',\n",
    "             '2022-7-22 6:00am':'Cohort 14','2022-8-4 10:00am':'Cohort 15','2022-8-5 6:00am':'Cohort 14',\n",
    "             '2022-8-18 10:00am':'Cohort 15','2022-8-19 6:00am':'Cohort 14','2022-9-1 10:00am':'Cohort 15',\n",
    "             '2022-9-2 6:00am':'Cohort 14','2022-9-15 10:00am':'Cohort 15','2022-9-16 6:00am':'Cohort 14',\n",
    "             '2022-9-29 10:00am':'Cohort 15','2022-9-30 6:00am':'Cohort 14'}\n",
    "programDA = ['data analytics', 'da']\n",
    "programDsMl = ['data science','machine learning', 'ds', 'ml']\n",
    "\n"
   ]
  },
  {
   "cell_type": "markdown",
   "id": "24c7760b",
   "metadata": {},
   "source": [
    "### Using pandas to read countries and timezone file:"
   ]
  },
  {
   "cell_type": "code",
   "execution_count": 68,
   "id": "ae9fd3ca",
   "metadata": {},
   "outputs": [
    {
     "name": "stdout",
     "output_type": "stream",
     "text": [
      "{'Africa/Abidjan': 'UTC+0', 'Africa/Accra': 'UTC+0', 'Africa/Addis_Ababa': 'UTC+3', 'Africa/Algiers': 'UTC+1', 'Africa/Asmara': 'UTC+3', 'Africa/Asmera': 'UTC+3', 'Africa/Bamako': 'UTC+0', 'Africa/Bangui': 'UTC+1', 'Africa/Banjul': 'UTC+0', 'Africa/Bissau': 'UTC+0', 'Africa/Blantyre': 'UTC+2', 'Africa/Brazzaville': 'UTC+1', 'Africa/Bujumbura': 'UTC+2', 'Africa/Cairo': 'UTC+2', 'Africa/Casablanca': 'UTC+0', 'Africa/Ceuta': 'UTC+1', 'Africa/Conakry': 'UTC+0', 'Africa/Dakar': 'UTC+0', 'Africa/Dar_es_Salaam': 'UTC+3', 'Africa/Djibouti': 'UTC+3', 'Africa/Douala': 'UTC+1', 'Africa/El_Aaiun': 'UTC+0', 'Africa/Freetown': 'UTC+0', 'Africa/Gaborone': 'UTC+2', 'Africa/Harare': 'UTC+2', 'Africa/Johannesburg': 'UTC+2', 'Africa/Juba': 'UTC+3', 'Africa/Kampala': 'UTC+3', 'Africa/Khartoum': 'UTC+3', 'Africa/Kigali': 'UTC+2', 'Africa/Kinshasa': 'UTC+1', 'Africa/Lagos': 'UTC+1', 'Africa/Libreville': 'UTC+1', 'Africa/Lome': 'UTC+0', 'Africa/Luanda': 'UTC+1', 'Africa/Lubumbashi': 'UTC+2', 'Africa/Lusaka': 'UTC+2', 'Africa/Malabo': 'UTC+1', 'Africa/Maputo': 'UTC+2', 'Africa/Maseru': 'UTC+2', 'Africa/Mbabane': 'UTC+2', 'Africa/Mogadishu': 'UTC+3', 'Africa/Monrovia': 'UTC+0', 'Africa/Nairobi': 'UTC+3', 'Africa/Ndjamena': 'UTC+1', 'Africa/Niamey': 'UTC+1', 'Africa/Nouakchott': 'UTC+0', 'Africa/Ouagadougou': 'UTC+0', 'Africa/Porto-Novo': 'UTC+1', 'Africa/Sao_Tome': 'UTC+0', 'Africa/Timbuktu': 'UTC+0', 'Africa/Tripoli': 'UTC+2', 'Africa/Tunis': 'UTC+1', 'Africa/Windhoek': 'UTC+1', 'America/Adak': 'UTC-10', 'America/Anchorage': 'UTC-9', 'America/Anguilla': 'UTC-4', 'America/Antigua': 'UTC-4', 'America/Araguaina': 'UTC-3', 'America/Argentina/Buenos_Aires': 'UTC-3', 'America/Argentina/Catamarca': 'UTC-3', 'America/Argentina/ComodRivadavia': 'UTC-3', 'America/Argentina/Cordoba': 'UTC-3', 'America/Argentina/Jujuy': 'UTC-3', 'America/Argentina/La_Rioja': 'UTC-3', 'America/Argentina/Mendoza': 'UTC-3', 'America/Argentina/Rio_Gallegos': 'UTC-3', 'America/Argentina/Salta': 'UTC-3', 'America/Argentina/San_Juan': 'UTC-3', 'America/Argentina/San_Luis': 'UTC-3', 'America/Argentina/Tucuman': 'UTC-3', 'America/Argentina/Ushuaia': 'UTC-3', 'America/Aruba': 'UTC-4', 'America/Asuncion': 'UTC-3', 'America/Atikokan': 'UTC-5', 'America/Atka': 'UTC-10', 'America/Bahia': 'UTC-3', 'America/Bahia_Banderas': 'UTC-6', 'America/Barbados': 'UTC-4', 'America/Belem': 'UTC-3', 'America/Belize': 'UTC-6', 'America/Blanc-Sablon': 'UTC-4', 'America/Boa_Vista': 'UTC-4', 'America/Bogota': 'UTC-5', 'America/Boise': 'UTC-7', 'America/Buenos_Aires': 'UTC-3', 'America/Cambridge_Bay': 'UTC-7', 'America/Campo_Grande': 'UTC-4', 'America/Cancun': 'UTC-5', 'America/Caracas': 'UTC-4', 'America/Catamarca': 'UTC-3', 'America/Cayenne': 'UTC-3', 'America/Cayman': 'UTC-5', 'America/Chicago': 'UTC-6', 'America/Chihuahua': 'UTC-7', 'America/Coral_Harbour': 'UTC-5', 'America/Cordoba': 'UTC-3', 'America/Costa_Rica': 'UTC-6', 'America/Creston': 'UTC-7', 'America/Cuiaba': 'UTC-4', 'America/Curacao': 'UTC-4', 'America/Danmarkshavn': 'UTC+0', 'America/Dawson': 'UTC-8', 'America/Dawson_Creek': 'UTC-7', 'America/Denver': 'UTC-7', 'America/Detroit': 'UTC-5', 'America/Dominica': 'UTC-4', 'America/Edmonton': 'UTC-7', 'America/Eirunepe': 'UTC-5', 'America/El_Salvador': 'UTC-6', 'America/Ensenada': 'UTC-8', 'America/Fort_Nelson': 'UTC-7', 'America/Fort_Wayne': 'UTC-5', 'America/Fortaleza': 'UTC-3', 'America/Glace_Bay': 'UTC-4', 'America/Godthab': 'UTC-3', 'America/Goose_Bay': 'UTC-4', 'America/Grand_Turk': 'UTC-4', 'America/Grenada': 'UTC-4', 'America/Guadeloupe': 'UTC-4', 'America/Guatemala': 'UTC-6', 'America/Guayaquil': 'UTC-5', 'America/Guyana': 'UTC-4', 'America/Halifax': 'UTC-4', 'America/Havana': 'UTC-5', 'America/Hermosillo': 'UTC-7', 'America/Indiana/Indianapolis': 'UTC-5', 'America/Indiana/Knox': 'UTC-6', 'America/Indiana/Marengo': 'UTC-5', 'America/Indiana/Petersburg': 'UTC-5', 'America/Indiana/Tell_City': 'UTC-6', 'America/Indiana/Vevay': 'UTC-5', 'America/Indiana/Vincennes': 'UTC-5', 'America/Indiana/Winamac': 'UTC-5', 'America/Indianapolis': 'UTC-5', 'America/Inuvik': 'UTC-7', 'America/Iqaluit': 'UTC-5', 'America/Jamaica': 'UTC-5', 'America/Jujuy': 'UTC-3', 'America/Juneau': 'UTC-9', 'America/Kentucky/Louisville': 'UTC-5', 'America/Kentucky/Monticello': 'UTC-5', 'America/Knox_IN': 'UTC-6', 'America/Kralendijk': 'UTC-4', 'America/La_Paz': 'UTC-4', 'America/Lima': 'UTC-5', 'America/Los_Angeles': 'UTC-8', 'America/Louisville': 'UTC-5', 'America/Lower_Princes': 'UTC-4', 'America/Maceio': 'UTC-3', 'America/Managua': 'UTC-6', 'America/Manaus': 'UTC-4', 'America/Marigot': 'UTC-4', 'America/Martinique': 'UTC-4', 'America/Matamoros': 'UTC-6', 'America/Mazatlan': 'UTC-7', 'America/Mendoza': 'UTC-3', 'America/Menominee': 'UTC-6', 'America/Merida': 'UTC-6', 'America/Metlakatla': 'UTC-8', 'America/Mexico_City': 'UTC-6', 'America/Miquelon': 'UTC-3', 'America/Moncton': 'UTC-4', 'America/Monterrey': 'UTC-6', 'America/Montevideo': 'UTC-3', 'America/Montreal': 'UTC-5', 'America/Montserrat': 'UTC-4', 'America/Nassau': 'UTC-5', 'America/New York': 'UTC-5', 'America/Nipigon': 'UTC-5', 'America/Nome': 'UTC-9', 'America/Noronha': 'UTC-2', 'America/North_Dakota/Beulah': 'UTC-6', 'America/North_Dakota/Center': 'UTC-6', 'America/North_Dakota/New_Salem': 'UTC-6', 'America/Ojinaga': 'UTC-7', 'America/Panama': 'UTC-5', 'America/Pangnirtung': 'UTC-5', 'America/Paramaribo': 'UTC-3', 'America/Phoenix': 'UTC-7', 'America/Port-au-Prince': 'UTC-5', 'America/Port_of_Spain': 'UTC-4', 'America/Porto_Acre': 'UTC-5', 'America/Porto_Velho': 'UTC-4', 'America/Puerto_Rico': 'UTC-4', 'America/Rainy_River': 'UTC-6', 'America/Rankin_Inlet': 'UTC-6', 'America/Recife': 'UTC-3', 'America/Regina': 'UTC-6', 'America/Resolute': 'UTC-6', 'America/Rio_Branco': 'UTC-5', 'America/Rosario': 'UTC-3', 'America/Santa_Isabel': 'UTC-8', 'America/Santarem': 'UTC-3', 'America/Santiago': 'UTC-3', 'America/Santo_Domingo': 'UTC-4', 'America/Sao_Paulo': 'UTC-3', 'America/Scoresbysund': 'UTC-1', 'America/Shiprock': 'UTC-7', 'America/Sitka': 'UTC-9', 'America/St_Barthelemy': 'UTC-4', 'America/St_Johns': 'UTC-3', 'America/St_Kitts': 'UTC-4', 'America/St_Lucia': 'UTC-4', 'America/St_Thomas': 'UTC-4', 'America/St_Vincent': 'UTC-4', 'America/Swift_Current': 'UTC-6', 'America/Tegucigalpa': 'UTC-6', 'America/Thule': 'UTC-4', 'America/Thunder_Bay': 'UTC-5', 'America/Tijuana': 'UTC-8', 'America/Toronto': 'UTC-5', 'America/Tortola': 'UTC-4', 'America/Vancouver': 'UTC-8', 'America/Virgin': 'UTC-4', 'America/Whitehorse': 'UTC-8', 'America/Winnipeg': 'UTC-6', 'America/Yakutat': 'UTC-9', 'America/Yellowknife': 'UTC-7', 'Antarctica/Casey': 'UTC+8', 'Antarctica/Davis': 'UTC+7', 'Antarctica/DumontDUrville': 'UTC+10', 'Antarctica/Macquarie': 'UTC+11', 'Antarctica/Mawson': 'UTC+5', 'Antarctica/McMurdo': 'UTC+12', 'Antarctica/Palmer': 'UTC-3', 'Antarctica/Rothera': 'UTC-3', 'Antarctica/South_Pole': 'UTC+12', 'Antarctica/Syowa': 'UTC+3', 'Antarctica/Troll': 'UTC+0', 'Antarctica/Vostok': 'UTC+6', 'Arctic/Longyearbyen': 'UTC+1', 'Asia/Aden': 'UTC+3', 'Asia/Almaty': 'UTC+6', 'Asia/Amman': 'UTC+2', 'Asia/Anadyr': 'UTC+12', 'Asia/Aqtau': 'UTC+5', 'Asia/Aqtobe': 'UTC+5', 'Asia/Ashgabat': 'UTC+5', 'Asia/Ashkhabad': 'UTC+5', 'Asia/Baghdad': 'UTC+3', 'Asia/Bahrain': 'UTC+3', 'Asia/Baku': 'UTC+4', 'Asia/Bangkok': 'UTC+7', 'Asia/Beirut': 'UTC+2', 'Asia/Bishkek': 'UTC+6', 'Asia/Brunei': 'UTC+8', 'Asia/Calcutta': 'UTC+5', 'Asia/Chita': 'UTC+8', 'Asia/Choibalsan': 'UTC+8', 'Asia/Chongqing': 'UTC+8', 'Asia/Chungking': 'UTC+8', 'Asia/Colombo': 'UTC+5', 'Asia/Dacca': 'UTC+6', 'Asia/Damascus': 'UTC+2', 'Asia/Dhaka': 'UTC+6', 'Asia/Dili': 'UTC+9', 'Asia/Dubai': 'UTC+4', 'Asia/Dushanbe': 'UTC+5', 'Asia/Gaza': 'UTC+2', 'Asia/Harbin': 'UTC+8', 'Asia/Hebron': 'UTC+2', 'Asia/Ho_Chi_Minh': 'UTC+7', 'Asia/Hong_Kong': 'UTC+8', 'Asia/Hovd': 'UTC+7', 'Asia/Irkutsk': 'UTC+8', 'Asia/Istanbul': 'UTC+2', 'Asia/Jakarta': 'UTC+7', 'Asia/Jayapura': 'UTC+9', 'Asia/Jerusalem': 'UTC+2', 'Asia/Kabul': 'UTC+4', 'Asia/Kamchatka': 'UTC+12', 'Asia/Karachi': 'UTC+5', 'Asia/Kashgar': 'UTC+6', 'Asia/Kathmandu': 'UTC+5', 'Asia/Katmandu': 'UTC+5', 'Asia/Khandyga': 'UTC+9', 'Asia/Kolkata': 'UTC+5', 'Asia/Krasnoyarsk': 'UTC+7', 'Asia/Kuala_Lumpur': 'UTC+8', 'Asia/Kuching': 'UTC+8', 'Asia/Kuwait': 'UTC+3', 'Asia/Macao': 'UTC+8', 'Asia/Macau': 'UTC+8', 'Asia/Magadan': 'UTC+10', 'Asia/Makassar': 'UTC+8', 'Asia/Manila': 'UTC+8', 'Asia/Muscat': 'UTC+4', 'Asia/Nicosia': 'UTC+2', 'Asia/Novokuznetsk': 'UTC+7', 'Asia/Novosibirsk': 'UTC+6', 'Asia/Omsk': 'UTC+6', 'Asia/Oral': 'UTC+5', 'Asia/Phnom_Penh': 'UTC+7', 'Asia/Pontianak': 'UTC+7', 'Asia/Pyongyang': 'UTC+8', 'Asia/Qatar': 'UTC+3', 'Asia/Qyzylorda': 'UTC+6', 'Asia/Rangoon': 'UTC+6', 'Asia/Riyadh': 'UTC+3', 'Asia/Riyadh87': 'UTC+3', 'Asia/Riyadh88': 'UTC+3', 'Asia/Riyadh89': 'UTC+3', 'Asia/Saigon': 'UTC+7', 'Asia/Sakhalin': 'UTC+10', 'Asia/Samarkand': 'UTC+5', 'Asia/Seoul': 'UTC+9', 'Asia/Shanghai': 'UTC+8', 'Asia/Singapore': 'UTC+8', 'Asia/Srednekolymsk': 'UTC+11', 'Asia/Taipei': 'UTC+8', 'Asia/Tashkent': 'UTC+5', 'Asia/Tbilisi': 'UTC+4', 'Asia/Tehran': 'UTC+3', 'Asia/Tel_Aviv': 'UTC+2', 'Asia/Thimbu': 'UTC+6', 'Asia/Thimphu': 'UTC+6', 'Asia/Tokyo': 'UTC+9', 'Asia/Ujung_Pandang': 'UTC+8', 'Asia/Ulaanbaatar': 'UTC+8', 'Asia/Ulan_Bator': 'UTC+8', 'Asia/Urumqi': 'UTC+6', 'Asia/Vientiane': 'UTC+7', 'Asia/Vladivostok': 'UTC+10', 'Asia/Yakutsk': 'UTC+9', 'Asia/Yekaterinburg': 'UTC+5', 'Asia/Yerevan': 'UTC+4', 'Atlantic/Azores': 'UTC-1', 'Atlantic/Bermuda': 'UTC-4', 'Atlantic/Canary': 'UTC+0', 'Atlantic/Cape_Verde': 'UTC-1', 'Atlantic/Faeroe': 'UTC+0', 'Atlantic/Faroe': 'UTC+0', 'Atlantic/Jan_Mayen': 'UTC+1', 'Atlantic/Madeira': 'UTC+0', 'Atlantic/Reykjavik': 'UTC+0', 'Atlantic/South_Georgia': 'UTC-2', 'Atlantic/St_Helena': 'UTC+0', 'Atlantic/Stanley': 'UTC-3', 'Australia/ACT': 'UTC+10', 'Australia/Adelaide': 'UTC+9', 'Australia/Brisbane': 'UTC+10', 'Australia/Broken_Hill': 'UTC+9', 'Australia/Canberra': 'UTC+10', 'Australia/Currie': 'UTC+10', 'Australia/Darwin': 'UTC+9', 'Australia/Eucla': 'UTC+8', 'Australia/Hobart': 'UTC+10', 'Australia/LHI': 'UTC+10', 'Australia/Lindeman': 'UTC+10', 'Australia/Lord_Howe': 'UTC+10', 'Australia/Melbourne': 'UTC+10', 'Australia/NSW': 'UTC+10', 'Australia/North': 'UTC+9', 'Australia/Perth': 'UTC+8', 'Australia/Queensland': 'UTC+10', 'Australia/South': 'UTC+9', 'Australia/Sydney': 'UTC+10', 'Australia/Tasmania': 'UTC+10', 'Australia/Victoria': 'UTC+10', 'Australia/West': 'UTC+8', 'Australia/Yancowinna': 'UTC+9', 'Brazil/Acre': 'UTC-5', 'Brazil/DeNoronha': 'UTC-2', 'Brazil/East': 'UTC-3', 'Brazil/West': 'UTC-4', 'CET': 'UTC+1', 'CST6CDT': 'UTC-6', 'Canada/Atlantic': 'UTC-4', 'Canada/Central': 'UTC-6', 'Canada/East-Saskatchewan': 'UTC-6', 'Canada/Eastern': 'UTC-5', 'Canada/Mountain': 'UTC-7', 'Canada/Newfoundland': 'UTC-3', 'Canada/Pacific': 'UTC-8', 'Canada/Saskatchewan': 'UTC-6', 'Canada/Yukon': 'UTC-8', 'Chile/Continental': 'UTC-3', 'Chile/EasterIsland': 'UTC-5', 'Cuba': 'UTC-5', 'EET': 'UTC+2', 'EST': 'UTC-5', 'EST5EDT': 'UTC-5', 'Egypt': 'UTC+2', 'Eire': 'UTC+0', 'Etc/GMT': 'UTC+0', 'Etc/GMT+0': 'UTC+0', 'Etc/GMT+1': 'UTC-1', 'Etc/GMT+10': 'UTC-10', 'Etc/GMT+11': 'UTC-11', 'Etc/GMT+12': 'UTC-12', 'Etc/GMT+2': 'UTC-2', 'Etc/GMT+3': 'UTC-3', 'Etc/GMT+4': 'UTC-4', 'Etc/GMT+5': 'UTC-5', 'Etc/GMT+6': 'UTC-6', 'Etc/GMT+7': 'UTC-7', 'Etc/GMT+8': 'UTC-8', 'Etc/GMT+9': 'UTC-9', 'Etc/GMT-0': 'UTC+0', 'Etc/GMT-1': 'UTC+1', 'Etc/GMT-10': 'UTC+10', 'Etc/GMT-11': 'UTC+11', 'Etc/GMT-12': 'UTC+12', 'Etc/GMT-13': 'UTC+13', 'Etc/GMT-14': 'UTC+14', 'Etc/GMT-2': 'UTC+2', 'Etc/GMT-3': 'UTC+3', 'Etc/GMT-4': 'UTC+4', 'Etc/GMT-5': 'UTC+5', 'Etc/GMT-6': 'UTC+6', 'Etc/GMT-7': 'UTC+7', 'Etc/GMT-8': 'UTC+8', 'Etc/GMT-9': 'UTC+9', 'Etc/GMT0': 'UTC+0', 'Etc/Greenwich': 'UTC+0', 'Etc/UCT': 'UTC+0', 'Etc/UTC': 'UTC+0', 'Etc/Universal': 'UTC+0', 'Etc/Zulu': 'UTC+0', 'Europe/Amsterdam': 'UTC+1', 'Europe/Andorra': 'UTC+1', 'Europe/Athens': 'UTC+2', 'Europe/Belfast': 'UTC+0', 'Europe/Belgrade': 'UTC+1', 'Europe/Berlin': 'UTC+1', 'Europe/Bratislava': 'UTC+1', 'Europe/Brussels': 'UTC+1', 'Europe/Bucharest': 'UTC+2', 'Europe/Budapest': 'UTC+1', 'Europe/Busingen': 'UTC+1', 'Europe/Chisinau': 'UTC+2', 'Europe/Copenhagen': 'UTC+1', 'Europe/Dublin': 'UTC+0', 'Europe/Gibraltar': 'UTC+1', 'Europe/Guernsey': 'UTC+0', 'Europe/Helsinki': 'UTC+2', 'Europe/Isle_of_Man': 'UTC+0', 'Europe/Istanbul': 'UTC+2', 'Europe/Jersey': 'UTC+0', 'Europe/Kaliningrad': 'UTC+2', 'Europe/Kiev': 'UTC+2', 'Europe/Lisbon': 'UTC+0', 'Europe/Ljubljana': 'UTC+1', 'Europe/London': 'UTC+0', 'Europe/Luxembourg': 'UTC+1', 'Europe/Madrid': 'UTC+1', 'Europe/Malta': 'UTC+1', 'Europe/Mariehamn': 'UTC+2', 'Europe/Minsk': 'UTC+3', 'Europe/Monaco': 'UTC+1', 'Europe/Moscow': 'UTC+3', 'Europe/Nicosia': 'UTC+2', 'Europe/Oslo': 'UTC+1', 'Europe/Paris': 'UTC+1', 'Europe/Podgorica': 'UTC+1', 'Europe/Prague': 'UTC+1', 'Europe/Riga': 'UTC+2', 'Europe/Rome': 'UTC+1', 'Europe/Samara': 'UTC+4', 'Europe/San_Marino': 'UTC+1', 'Europe/Sarajevo': 'UTC+1', 'Europe/Simferopol': 'UTC+2', 'Europe/Skopje': 'UTC+1', 'Europe/Sofia': 'UTC+2', 'Europe/Stockholm': 'UTC+1', 'Europe/Tallinn': 'UTC+2', 'Europe/Tirane': 'UTC+1', 'Europe/Tiraspol': 'UTC+2', 'Europe/Uzhgorod': 'UTC+2', 'Europe/Vaduz': 'UTC+1', 'Europe/Vatican': 'UTC+1', 'Europe/Vienna': 'UTC+1', 'Europe/Vilnius': 'UTC+2', 'Europe/Volgograd': 'UTC+3', 'Europe/Warsaw': 'UTC+1', 'Europe/Zagreb': 'UTC+1', 'Europe/Zaporozhye': 'UTC+2', 'Europe/Zurich': 'UTC+1', 'Factory': 'UTC+0', 'GB': 'UTC+0', 'GB-Eire': 'UTC+0', 'GMT': 'UTC+0', 'GMT+0': 'UTC+0', 'GMT-0': 'UTC+0', 'GMT0': 'UTC+0', 'Greenwich': 'UTC+0', 'HST': 'UTC-10', 'Hongkong': 'UTC+8', 'Iceland': 'UTC+0', 'Indian/Antananarivo': 'UTC+3', 'Indian/Chagos': 'UTC+6', 'Indian/Christmas': 'UTC+7', 'Indian/Cocos': 'UTC+6', 'Indian/Comoro': 'UTC+3', 'Indian/Kerguelen': 'UTC+5', 'Indian/Mahe': 'UTC+4', 'Indian/Maldives': 'UTC+5', 'Indian/Mauritius': 'UTC+4', 'Indian/Mayotte': 'UTC+3', 'Indian/Reunion': 'UTC+4', 'Iran': 'UTC+3', 'Israel': 'UTC+2', 'Jamaica': 'UTC-5', 'Japan': 'UTC+9', 'Kwajalein': 'UTC+12', 'Libya': 'UTC+2', 'MET': 'UTC+1', 'MST': 'UTC-7', 'MST7MDT': 'UTC-7', 'Mexico/BajaNorte': 'UTC-8', 'Mexico/BajaSur': 'UTC-7', 'Mexico/General': 'UTC-6', 'Mideast/Riyadh87': 'UTC+0', 'Mideast/Riyadh88': 'UTC+0', 'Mideast/Riyadh89': 'UTC+0', 'NZ': 'UTC+12', 'NZ-CHAT': 'UTC+12', 'Navajo': 'UTC+0', 'PRC': 'UTC+0', 'PST8PDT': 'UTC+0', 'Pacific/Apia': 'UTC+13', 'Pacific/Auckland': 'UTC+12', 'Pacific/Bougainville': 'UTC+11', 'Pacific/Chatham': 'UTC+12', 'Pacific/Chuuk': 'UTC+10', 'Pacific/Easter': 'UTC-5', 'Pacific/Efate': 'UTC+11', 'Pacific/Enderbury': 'UTC+13', 'Pacific/Fakaofo': 'UTC+13', 'Pacific/Fiji': 'UTC+12', 'Pacific/Funafuti': 'UTC+12', 'Pacific/Galapagos': 'UTC-6', 'Pacific/Gambier': 'UTC-9', 'Pacific/Guadalcanal': 'UTC+11', 'Pacific/Guam': 'UTC+10', 'Pacific/Honolulu': 'UTC-10', 'Pacific/Johnston': 'UTC-10', 'Pacific/Kiritimati': 'UTC+14', 'Pacific/Kosrae': 'UTC+11', 'Pacific/Kwajalein': 'UTC+12', 'Pacific/Majuro': 'UTC+12', 'Pacific/Marquesas': 'UTC-9', 'Pacific/Midway': 'UTC-11', 'Pacific/Nauru': 'UTC+12', 'Pacific/Niue': 'UTC-11', 'Pacific/Norfolk': 'UTC+11', 'Pacific/Noumea': 'UTC+11', 'Pacific/Pago_Pago': 'UTC-11', 'Pacific/Palau': 'UTC+9', 'Pacific/Pitcairn': 'UTC-8', 'Pacific/Ponape': 'UTC+11', 'Pacific/Port_Moresby': 'UTC+10', 'Pacific/Rarotonga': 'UTC-10', 'Pacific/Saipan': 'UTC+10', 'Pacific/Samoa': 'UTC-11', 'Pacific/Tahiti': 'UTC-10', 'Pacific/Tarawa': 'UTC+12', 'Pacific/Tongatapu': 'UTC+13', 'Pacific/Truk': 'UTC+10', 'Pacific/Wake': 'UTC+12', 'Pacific/Wallis': 'UTC+12', 'Pacific/Yap': 'UTC+10', 'Poland': 'UTC+1', 'Portugal': 'UTC+0', 'ROC': 'UTC+8', 'ROK': 'UTC+9', 'Singapore': 'UTC+8', 'Turkey': 'UTC+2', 'UCT': 'UTC+0', 'US/Alaska': 'UTC-9', 'US/Aleutian': 'UTC-10', 'US/Arizona': 'UTC-7', 'US/Central': 'UTC-6', 'US/East-Indiana': 'UTC-5', 'US/Eastern': 'UTC-5', 'US/Hawaii': 'UTC-10', 'US/Indiana-Starke': 'UTC-6', 'US/Michigan': 'UTC-5', 'US/Mountain': 'UTC-7', 'US/Pacific': 'UTC-8', 'US/Pacific-New': 'UTC-8', 'US/Samoa': 'UTC-11', 'UTC': 'UTC+0', 'Universal': 'UTC+0', 'W-SU': 'UTC+3', 'WET': 'UTC+0', 'Zulu': 'UTC+0'}\n"
     ]
    }
   ],
   "source": [
    "#Using pandas to read countries and timezone file.\n",
    "import pandas as pd\n",
    "fileName = 'timezones_Detailed_588_Countries.csv'\n",
    "filePath = 'C:/Users/ohiom/Downloads'\n",
    "\n",
    "fullfileDir = filePath + '/' + fileName\n",
    "df = pd.read_csv(fullfileDir)\n",
    "#print(df)\n",
    "countList = list(df['timezone'])  #Creating list containe        \n",
    "offsetSecs = list((df['offset'])) #creating list for 'offset'\n",
    "offsetHr = []\n",
    "for item in offsetSecs:\n",
    "    hr = str(int(item/3600)) #converting seconds to hour\n",
    "    offsetHr.append(hr)\n",
    "#print(offsetHr)\n",
    "counTzonUTC = {}            #Creating dictionay to hold timezone and UTC offset details.\n",
    "for region,timeZone in zip(countList,offsetHr):\n",
    "    if timeZone == '-' + f'{timeZone[1:]}':\n",
    "        counTzonUTC[region] = 'UTC' + f'{timeZone}'\n",
    "    else:\n",
    "        counTzonUTC[region] = f'UTC+{timeZone}'\n",
    "print(counTzonUTC)"
   ]
  },
  {
   "cell_type": "markdown",
   "id": "a6b5c41f",
   "metadata": {},
   "source": [
    "### Defining the timezone converter function:"
   ]
  },
  {
   "cell_type": "code",
   "execution_count": 33,
   "id": "88013a52",
   "metadata": {},
   "outputs": [],
   "source": [
    "#defining the timezone converter function:\n",
    "studLocale = ''\n",
    "schedules = ''\n",
    "\n",
    "def bcampCalc(studLocale, schedules):\n",
    "    program = input(\"What's your program: \")\n",
    "    program = program.lower()  #Ensuring input is converted into lower case.\n",
    "    studLocale = input(\"What's your current city or region: \")\n",
    "    schedules = input('Bootcamp schedule date & time in format, 1999-12-31 Hr:min(am or pm): ')           \n",
    "    if program in programDA:\n",
    "        #Concerting schedule from EST to UTC    \n",
    "        if schedules in list(dASchdlDict.keys()):\n",
    "            dASchdlUTC = datetime.datetime.strptime(schedules, '%Y-%m-%d %I:%M%p') #converting to string to datetime\n",
    "            tdelta = datetime.timedelta(hours=4) #using timedelta to hold the time difference.\n",
    "            dASchdlUTC1 = dASchdlUTC + tdelta\n",
    "            if studLocale in list(counTzonUTC.keys()):\n",
    "                tzoneList = counTzonUTC[studLocale]\n",
    "                offset = int(tzoneList[3] + tzoneList[4:]) #Obtaining the UTC offset\n",
    "                dt = datetime.timedelta(hours=offset)\n",
    "                Time = dASchdlUTC1 + dt     #Obtaining time in new time zone\n",
    "                Time1 = Time.strftime('%Y-%m-%d %I:%M%p')\n",
    "                print(f'Bootcamp schedule for {dASchdlDict[schedules]} students in {studLocale} is: {Time1} in {tzoneList}')\n",
    "            else:\n",
    "                print(f'{studLocale} is not defined')\n",
    "        else:\n",
    "            print(f'You entered a value: {schedules} which is not given in Data Analytics class schedule. Check schedule list and try again.')\n",
    "    elif program in programDsMl:    \n",
    "        if schedules in list(dsmlSchdlDict.keys()):\n",
    "            dsmlSchdlUTC = datetime.datetime.strptime(schedules, '%Y-%m-%d %I:%M%p')\n",
    "            tdelta = datetime.timedelta(hours=4)\n",
    "            dsmlSchdlUTC1 = dsmlSchdlUTC + tdelta\n",
    "            if studLocale in list(counTzonUTC.keys()):\n",
    "                tzoneList = counTzonUTC[studLocale]\n",
    "                offset = int(tzoneList[3] + tzoneList[4:])\n",
    "                dt = datetime.timedelta(hours=offset)\n",
    "                Time = dsmlSchdlUTC1 + dt\n",
    "                Time1 = Time.strftime('%Y-%m-%d %I:%M%p')\n",
    "                print(f'Bootcamp schedule for {dASchdlDict[schedules]} students in {studLocale} is: {Time1} in {tzoneList}')\n",
    "            else:\n",
    "                print(f'{studLocale} is not defined')  \n",
    "        else:\n",
    "            print(f'You entered a value: {schedules} which is not given in DS & MS class schedule. Check schedule list and try again.')\n",
    "    else:\n",
    "        print(f'You entered a value \"{program}\" which is invalid for program name. Please check your entry')\n",
    "\n",
    "    return\n"
   ]
  },
  {
   "cell_type": "code",
   "execution_count": 34,
   "id": "957bf399",
   "metadata": {},
   "outputs": [
    {
     "name": "stdout",
     "output_type": "stream",
     "text": [
      "What's your program: da\n",
      "What's your current city or region: Africa/Cairo\n",
      "Bootcamp schedule date & time in format, 1999-12-31 Hr:min(am or pm): 2022-7-7 6:00am\n",
      "Bootcamp schedule for Cohort 14 students in Africa/Cairo is: 2022-07-07 12:00PM in UTC+2\n"
     ]
    }
   ],
   "source": [
    "bcampCalc(studLocale, schedules)"
   ]
  },
  {
   "cell_type": "markdown",
   "id": "524e8b82",
   "metadata": {},
   "source": [
    "### Function for obtaining time zone of any region:"
   ]
  },
  {
   "cell_type": "code",
   "execution_count": 63,
   "id": "311ebfe1",
   "metadata": {},
   "outputs": [],
   "source": [
    "#function for obtaining time zone of any region\n",
    "country = ''\n",
    "def countTimeZon(country):\n",
    "    country = input('Enter name of region or country eg; Africa/Lagos, America/Washington, etc: ')\n",
    "    if country in list(counTzonUTC.keys()):\n",
    "        tZone = counTzonUTC[country]\n",
    "        print(f'Time zone of {country} in UTC format is: {tZone}')\n",
    "    else:\n",
    "        print(f'You enter {country} which is not defined in the country list')\n",
    "    return"
   ]
  },
  {
   "cell_type": "code",
   "execution_count": 64,
   "id": "9b884b59",
   "metadata": {},
   "outputs": [
    {
     "name": "stdout",
     "output_type": "stream",
     "text": [
      "Enter name of region or country eg; Africa/Lagos, America/Washington, etc: America/New York\n",
      "Time zone of America/New York in UTC format is: UTC-5\n"
     ]
    }
   ],
   "source": [
    "countTimeZon(country)"
   ]
  },
  {
   "cell_type": "markdown",
   "id": "bdb7bb33",
   "metadata": {},
   "source": [
    "### Time and time zone converter between two locations:"
   ]
  },
  {
   "cell_type": "code",
   "execution_count": 39,
   "id": "3bfc3d93",
   "metadata": {},
   "outputs": [],
   "source": [
    "#Time and time zone converter\n",
    "sourceCount = ''\n",
    "timeZone = ''\n",
    "time = ''\n",
    "destCount = ''\n",
    "def tzoneConverter(sourceCount, timeZone, time, destCount):\n",
    "    sourceCount = input('Region or country converting from: ')\n",
    "    timeZone = input('Enter time zone of region or country converting from in UTC: ')\n",
    "    time = input('Enter date and time in this format 1999-8-31 6:00am): ')\n",
    "    destCount = input('Region or country converting to: ')\n",
    "    if sourceCount in list(counTzonUTC.keys()):\n",
    "        if timeZone == counTzonUTC[sourceCount]:\n",
    "            p = int(timeZone[3] + timeZone[4:])\n",
    "            \n",
    "            if destCount in list(counTzonUTC.keys()):\n",
    "                tzoneDest = counTzonUTC[destCount]\n",
    "                q = int(tzoneDest[3] + tzoneDest[4:])\n",
    "                k = q - p\n",
    "                #destTzone = counTzonUTC[destCount]\n",
    "                time1 = datetime.datetime.strptime(f'{time}', '%Y-%m-%d %I:%M%p')\n",
    "                dt = datetime.timedelta(hours=k)\n",
    "                newTime = time1 + dt\n",
    "                newTime1 = newTime.strftime('%Y-%m-%d %I:%M%p')\n",
    "                print(f'{time} ({timeZone}) is equivalent to {newTime1} in {destCount} with a time zone of {tzoneDest}')\n",
    "            else:\n",
    "                print(f'{destCount} is not defined in country list')\n",
    "        else:\n",
    "            print(f'{timeZone} is not the correct time zone for {sourceCount}')\n",
    "    else:\n",
    "        print(f'{sourceCount} is not defined on the country list')\n",
    "    return\n"
   ]
  },
  {
   "cell_type": "code",
   "execution_count": 40,
   "id": "31644035",
   "metadata": {},
   "outputs": [
    {
     "name": "stdout",
     "output_type": "stream",
     "text": [
      "Region or country converting from: Africa/Lagos\n",
      "Enter time zone of region or country converting from in UTC: UTC+1\n",
      "Enter date and time in this format 1999-8-31 6:00am): 2022-4-6 8:30am\n",
      "Region or country converting to: Australia/Sydney\n",
      "2022-4-6 8:30am (UTC+1) is equivalent to 2022-04-06 05:30PM in Australia/Sydney with a time zone of UTC+10\n"
     ]
    }
   ],
   "source": [
    "tzoneConverter(sourceCount, timeZone, time, destCount)"
   ]
  },
  {
   "cell_type": "markdown",
   "id": "e73f280d",
   "metadata": {},
   "source": [
    "### Obtaining the Current time in any region:"
   ]
  },
  {
   "cell_type": "code",
   "execution_count": 66,
   "id": "30ce10f6",
   "metadata": {},
   "outputs": [],
   "source": [
    "#Accessing the current time in any region.\n",
    "def currTime():\n",
    "    import pytz\n",
    "    region = input('Enter your time zone region eg: Australia/Sydney: ')\n",
    "    if region in counTzonUTC:\n",
    "        offset = int(counTzonUTC[region][3:])\n",
    "        timeNow = datetime.datetime.now(tz=pytz.UTC) #Obtaining current system time in UTC+0\n",
    "        dt = datetime.timedelta(hours=offset)\n",
    "        newCountimeNow = timeNow + dt\n",
    "        newCountimeNow1 = newCountimeNow.strftime('%Y-%m-%d %I:%M:%S%p')\n",
    "        print(f'Current date & time in {region} is: {newCountimeNow1}.')\n",
    "    else:\n",
    "        print(f'{region} is not specified in country list')\n",
    "    return"
   ]
  },
  {
   "cell_type": "code",
   "execution_count": 67,
   "id": "4d1a923d",
   "metadata": {},
   "outputs": [
    {
     "name": "stdout",
     "output_type": "stream",
     "text": [
      "Enter your time zone region eg: Australia/Sydney: Australia/New_Zealand\n",
      "Australia/New_Zealand is not specified in country list\n"
     ]
    }
   ],
   "source": [
    "currTime()"
   ]
  },
  {
   "cell_type": "markdown",
   "id": "c1d26875",
   "metadata": {},
   "source": [
    "### Setting a 24 hours alarm function:"
   ]
  },
  {
   "cell_type": "code",
   "execution_count": 60,
   "id": "5dd645c8",
   "metadata": {},
   "outputs": [],
   "source": [
    "#24 hours Alarm function\n",
    "\n",
    "bootSchedule = ''\n",
    "def alarm():\n",
    "    import pytz\n",
    "    bootSchedule = input('Bootcamp date and time: ')\n",
    "    if bootSchedule in list(dASchdlDict.keys()):\n",
    "        bootSchedule1 = datetime.datetime.strptime(bootSchedule, '%Y-%m-%d %I:%M%p')\n",
    "        tdelta = datetime.timedelta(hours=4)\n",
    "        bootSchedule2 = bootSchedule1 + tdelta   #Converting to UTC+0\n",
    "        #print(bootSchedule2)\n",
    "        i=1\n",
    "        while i==1:\n",
    "            currtDetail = datetime.datetime.now(tz=pytz.UTC).strftime('%Y-%m-%d %I:%M%p')  #Current time in UTC+0 in specified format\n",
    "            currtDetail1 = datetime.datetime.strptime(currtDetail, '%Y-%m-%d %I:%M%p')  #Converting new format to datetime\n",
    "            tdelta1 = datetime.timedelta(hours=24)  #Creating a time delta for 24hrs\n",
    "            alarmTime = bootSchedule2 - tdelta1     #Setting the alarm time\n",
    "            if currtDetail1 == alarmTime:\n",
    "                print(f'BOOTCAMP ALERT!!! Your bootcamp scheduled for {bootSchedule} is about 24 hours from your current time. GET READY!')\n",
    "                break\n",
    "    elif bootSchedule in list(dsmlSchdlDict.keys()):\n",
    "        bootSchedule1 = datetime.datetime.strptime(bootSchedule, '%Y-%m-%d %I:%M%p')\n",
    "        tdelta = datetime.timedelta(hours=4)\n",
    "        bootSchedule2 = bootSchedule1 + tdelta   #Converting to UTC+0\n",
    "        #print(bootSchedule2)\n",
    "        i=1\n",
    "        while i==1:\n",
    "            currtDetail = datetime.datetime.now(tz=pytz.UTC).strftime('%Y-%m-%d %I:%M%p')  #Current time in UTC+0 in specified format\n",
    "            currtDetail1 = datetime.datetime.strptime(currtDetail, '%Y-%m-%d %I:%M%p')  #Converting new format to datetime\n",
    "            tdelta1 = datetime.timedelta(hours=24)  #Creating a time delta for 24hrs\n",
    "            alarmTime = bootSchedule2 - tdelta1     #Setting the alarm time\n",
    "            if currtDetail1 == alarmTime:\n",
    "                print(f'BOOTCAMP ALERT!!! Your bootcamp scheduled for {bootSchedule} is about 24 hours from your current time. GET READY!')\n",
    "                break\n",
    "    else:\n",
    "        print(f'{bootSchedule} has no class designated for it. Please check schedule list')\n",
    "    return"
   ]
  },
  {
   "cell_type": "code",
   "execution_count": null,
   "id": "b2aae627",
   "metadata": {},
   "outputs": [],
   "source": [
    "alarm()"
   ]
  },
  {
   "cell_type": "code",
   "execution_count": null,
   "id": "45f065fb",
   "metadata": {},
   "outputs": [],
   "source": []
  }
 ],
 "metadata": {
  "kernelspec": {
   "display_name": "Python 3 (ipykernel)",
   "language": "python",
   "name": "python3"
  },
  "language_info": {
   "codemirror_mode": {
    "name": "ipython",
    "version": 3
   },
   "file_extension": ".py",
   "mimetype": "text/x-python",
   "name": "python",
   "nbconvert_exporter": "python",
   "pygments_lexer": "ipython3",
   "version": "3.9.7"
  }
 },
 "nbformat": 4,
 "nbformat_minor": 5
}
